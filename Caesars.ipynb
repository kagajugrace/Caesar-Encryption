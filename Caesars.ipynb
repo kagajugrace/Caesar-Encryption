{
 "cells": [
  {
   "cell_type": "markdown",
   "id": "aa98b343-eee4-4f3c-9c5d-70ecfcf7623d",
   "metadata": {},
   "source": [
    "## Caesar's Cypher Encryption Assignment\n",
    "##### The IT team needs to comply with the companies' policies on data privacy, your boss tasks you to write an algorithm to encrypt and decrypt its internal messages using Caesar's Cipher. \n",
    "\n",
    "##### In cryptography, a Caesar cipher, also known as shift cipher, is one of the simplest and most widely known encryption techniques. It is a type of substitution cipher in which each letter in the plaintext is replaced by a letter of some fixed number of positions down the alphabet. \n",
    "\n",
    "##### For example, with a left shift of 3, D would be replaced by A, E would become B, and so on. The method is named after Julius Caesar, who used it in his private correspondence. The transformation can be represented by aligning two alphabets; the cipher alphabet is the plain alphabet rotated left or right by some number of positions. For instance, here is a Caesar cipher using a left rotation of three places, equivalent to a right shift of 23 (the shift parameter is used as the key):\n",
    "\n",
    "##### Plain:  ABCDEFGHIJKLMNOPQRSTUVWXYZ\n",
    "##### Cipher: XYZABCDEFGHIJKLMNOPQRSTUVW\n",
    "\n",
    "##### When encrypting, a person looks up each letter of the message in the “plain” line and writes down the corresponding letter in the “cipher” line.\n",
    "\n",
    "##### Plaintext:  THE QUICK BROWN FOX JUMPS OVER THE LAZY DOG\n",
    "##### Ciphertext: QEB NRFZH YOLTK CLU GRJMP LSBO QEB IXWV ALD\n",
    "\n",
    "##### Deciphering is done in reverse, with a right shift of 3."
   ]
  },
  {
   "cell_type": "code",
   "execution_count": null,
   "id": "2d36e766-3c1f-4e1e-9da8-caea5b5c7e8c",
   "metadata": {},
   "outputs": [],
   "source": []
  },
  {
   "cell_type": "markdown",
   "id": "80f480bd-4410-44b0-a7c9-82dc2c43cfbc",
   "metadata": {
    "tags": []
   },
   "source": [
    "### Encryption"
   ]
  },
  {
   "cell_type": "code",
   "execution_count": 1,
   "id": "43d8fb47-1fe4-4489-af56-48e79c3c6654",
   "metadata": {},
   "outputs": [
    {
     "data": {
      "text/plain": [
       "'WKH TXLFN EURZQ IRA MXPSV RYHU WKH ODCB GRJ'"
      ]
     },
     "execution_count": 1,
     "metadata": {},
     "output_type": "execute_result"
    }
   ],
   "source": [
    "def encrypt():\n",
    "    text = input('Please Enter Text To Be Encrypt: ')\n",
    "    shift = int(input('Please Enter Shift Number: '))\n",
    "    ciper = \"\"\n",
    "    for i in range(len(text)):\n",
    "        char = text[i]\n",
    "        if char == \" \":\n",
    "            ciper += char\n",
    "        elif char.isupper():\n",
    "            ciper += chr((ord(char)+ shift - 65) % 26 + 65)\n",
    "        else:\n",
    "            ciper += chr((ord(char)+ shift -97) % 26 + 97)\n",
    "    return ciper\n",
    "encrypt()"
   ]
  },
  {
   "cell_type": "markdown",
   "id": "40a61f88-275f-4929-8e95-59265798946a",
   "metadata": {},
   "source": [
    "### Decryption"
   ]
  },
  {
   "cell_type": "code",
   "execution_count": 2,
   "id": "cabbbd1a-6699-4993-98b5-4f12f3720592",
   "metadata": {},
   "outputs": [
    {
     "name": "stdout",
     "output_type": "stream",
     "text": [
      "Please Enter Text To Be Decrypt:  WKH TXLFN EURZQ IRA MXPSV RYHU WKH ODCB GRJ\n",
      "Please Enter Shift Number:  3\n"
     ]
    },
    {
     "data": {
      "text/plain": [
       "'THE QUICK BROWN FOX JUMPS OVER THE LAZY DOG'"
      ]
     },
     "execution_count": 2,
     "metadata": {},
     "output_type": "execute_result"
    }
   ],
   "source": [
    "def decrypt():\n",
    "    text = input('Please Enter Text To Be Decrypt: ')\n",
    "    shift = 26 - int(input('Please Enter Shift Number: '))\n",
    "    ciper = \"\"\n",
    "    for i in range(len(text)):\n",
    "        char = text[i]\n",
    "        if char == \" \":\n",
    "            ciper += char\n",
    "        elif char.isupper():\n",
    "            ciper += chr((ord(char)- shift - 65) % 26 + 65)\n",
    "        else:\n",
    "            ciper += chr((ord(char)- shift -97) % 26 + 97)\n",
    "    return ciper\n",
    "decrypt()"
   ]
  },
  {
   "cell_type": "code",
   "execution_count": null,
   "id": "987c1ca4-3069-407c-99a8-d808b7d6ca75",
   "metadata": {},
   "outputs": [],
   "source": []
  }
 ],
 "metadata": {
  "kernelspec": {
   "display_name": "Python 3",
   "language": "python",
   "name": "python3"
  },
  "language_info": {
   "codemirror_mode": {
    "name": "ipython",
    "version": 3
   },
   "file_extension": ".py",
   "mimetype": "text/x-python",
   "name": "python",
   "nbconvert_exporter": "python",
   "pygments_lexer": "ipython3",
   "version": "3.11.1"
  },
  "vscode": {
   "interpreter": {
    "hash": "7e5c0badbb2d24bbc3f94f0128230c51073dab69f6205fe8338cbe6039d785c3"
   }
  }
 },
 "nbformat": 4,
 "nbformat_minor": 5
}
